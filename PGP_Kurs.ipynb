{
  "cells": [
    {
      "cell_type": "markdown",
      "metadata": {},
      "source": [
        "# Курсовая ПГП\n",
        "\n",
        "# Вариант 2\n",
        "\n",
        "Задача: Есть два больших массива с координатами широты и долготы. Требуется получить количество точек в первом массиве, координаты которых в пределах 1 км ко второму массиву. Итак, если у нас есть два массива (n x 2 и k x 2, где n > k), результирующий массив должен быть массивом счетчиков размерности n, представляющих количество раз, когда точка в первом массиве n находится в пределах 1 км от точки в массиве k.\n",
        "\n",
        "Однако в случае n = 10 000 000 и k = 1 000 000 пришлось бы вычислять 10 000 000 x 1 000 000 или 10 000 000 000 000 расстояний, что очень долго. Поэтому будет использоваться Numba для оптимизации процесса."
      ]
    },
    {
      "cell_type": "code",
      "execution_count": 21,
      "metadata": {
        "id": "SH4r9WO0cBp2"
      },
      "outputs": [],
      "source": [
        "import math\n",
        "import numpy as np\n",
        "\n",
        "from numba import cuda, jit, prange, vectorize, guvectorize\n",
        "from sys import getsizeof\n",
        "from multiprocessing import cpu_count, Pool"
      ]
    },
    {
      "cell_type": "code",
      "execution_count": 22,
      "metadata": {
        "id": "vmudQkUscCxG"
      },
      "outputs": [],
      "source": [
        "n = 1_000\n",
        "k = 1_000\n",
        "\n",
        "coord1 = np.zeros((n, 2), dtype=np.float32)\n",
        "coord2 = np.zeros((k, 2), dtype=np.float32)\n",
        "\n",
        "coord1[:,0] = np.random.uniform(-90, 90, n).astype(np.float32)\n",
        "coord1[:,1] = np.random.uniform(-180, 180, n).astype(np.float32)\n",
        "coord2[:,0] = np.random.uniform(-90, 90, k).astype(np.float32)\n",
        "coord2[:,1] = np.random.uniform(-180, 180, k).astype(np.float32)\n",
        "\n",
        "coord1 = np.sort(coord1,axis=0)\n",
        "coord2 = np.sort(coord2,axis=0)"
      ]
    },
    {
      "cell_type": "markdown",
      "metadata": {},
      "source": [
        "Перед использование Numba, просмотрим скорость работы готовой библиотеки для задач с расстоянием. В функции также добавлен фильтр, чтобы исключить точки, которые слишком далеко, чтобы стоило вычислять их  расстояние."
      ]
    },
    {
      "cell_type": "code",
      "execution_count": 41,
      "metadata": {
        "id": "htKK9DCWcEQV"
      },
      "outputs": [],
      "source": [
        "from geopy.distance import great_circle"
      ]
    },
    {
      "cell_type": "code",
      "execution_count": 25,
      "metadata": {
        "colab": {
          "base_uri": "https://localhost:8080/"
        },
        "id": "xyZL7eRZcY-C",
        "outputId": "44ae25b0-9e54-482d-8ad7-706951e423ee"
      },
      "outputs": [
        {
          "name": "stdout",
          "output_type": "stream",
          "text": [
            "19.6 µs ± 759 ns per loop (mean ± std. dev. of 7 runs, 10,000 loops each)\n"
          ]
        }
      ],
      "source": [
        "%timeit great_circle(coord1[0], coord2[0])"
      ]
    },
    {
      "cell_type": "code",
      "execution_count": 26,
      "metadata": {
        "id": "-RorrfgDcb3w"
      },
      "outputs": [],
      "source": [
        "def get_nearby_py(coord1, coord2, max_dist):\n",
        "    out = []\n",
        "    lat_filter = max_dist / 100\n",
        "    for lat,lng in coord1:\n",
        "        ct = 0\n",
        "        for lat2,lng2 in coord2:\n",
        "            if np.abs(lat - lat2) < lat_filter:\n",
        "                if great_circle((lat,lng),(lat2,lng2)).km < max_dist:\n",
        "                    ct += 1\n",
        "        out.append(ct)\n",
        "    return out"
      ]
    },
    {
      "cell_type": "code",
      "execution_count": 40,
      "metadata": {
        "colab": {
          "base_uri": "https://localhost:8080/"
        },
        "id": "Z2i3X7PHcfav",
        "outputId": "9bdab105-8744-4a7f-b932-9cd54c37a67f"
      },
      "outputs": [
        {
          "name": "stdout",
          "output_type": "stream",
          "text": [
            "5.39 s ± 49.8 ms per loop (mean ± std. dev. of 7 runs, 1 loop each)\n"
          ]
        }
      ],
      "source": [
        "_t_py = %timeit -o get_nearby_py(coord1, coord2, 1.0)"
      ]
    },
    {
      "cell_type": "code",
      "execution_count": 44,
      "metadata": {
        "colab": {
          "base_uri": "https://localhost:8080/"
        },
        "id": "6t8Z-y0tcgf5",
        "outputId": "ba69ccb7-ae36-4766-e021-d5582da3c3c2"
      },
      "outputs": [
        {
          "name": "stdout",
          "output_type": "stream",
          "text": [
            "Примерно 14967.12 часов, чтобы перебрать полный датасет.\n"
          ]
        }
      ],
      "source": [
        "est_time = lambda x : print( 'Примерно {} часов, чтобы перебрать полный датасет.'.format( round(1e13/(n*k) * x / 3600, 2) ) )\n",
        "est_time(_t_py.average)"
      ]
    },
    {
      "cell_type": "code",
      "execution_count": 36,
      "metadata": {
        "colab": {
          "base_uri": "https://localhost:8080/",
          "height": 588
        },
        "id": "3bSr4Y2hchin",
        "outputId": "0465b403-a7d5-45a5-8363-ffe917857d14"
      },
      "outputs": [],
      "source": [
        "@cuda.jit(device=True)\n",
        "def haversine_cuda(s_lat,s_lng,e_lat,e_lng):\n",
        "    R = 6373.0\n",
        "\n",
        "    s_lat = s_lat * math.pi / 180                     \n",
        "    s_lng = s_lng * math.pi / 180 \n",
        "    e_lat = e_lat * math.pi / 180                    \n",
        "    e_lng = e_lng * math.pi / 180 \n",
        "\n",
        "    d = math.sin((e_lat - s_lat)/2)**2 + math.cos(s_lat)*math.cos(e_lat) * math.sin((e_lng - s_lng)/2)**2\n",
        "\n",
        "    return 2 * R * math.asin(math.sqrt(d))\n",
        "\n",
        "@cuda.jit\n",
        "def get_nearby_kernel(coord1, coord2, max_dist, out):\n",
        "    start = cuda.grid(1)\n",
        "    stride = cuda.gridsize(1)\n",
        "    lat_filter = max_dist / 100\n",
        "    \n",
        "    for i in range(start, coord1.shape[0], stride):\n",
        "        ct = 0\n",
        "        _lat1 = coord1[i,0]\n",
        "        _lng1 = coord1[i,1]\n",
        "        \n",
        "        for j in range(coord2.shape[0]):\n",
        "            _lat2 = coord2[j,0]\n",
        "            _lng2 = coord2[j,1]\n",
        "\n",
        "            if math.fabs(_lat1 - _lat2) <= lat_filter:\n",
        "                dist = haversine_cuda(_lat1, _lng1, _lat2, _lng2)\n",
        "                if dist < max_dist:ct += 1\n",
        "                \n",
        "        out[i] = ct\n",
        "        \n",
        "threads_per_block = 512\n",
        "blocks_per_grid = 36"
      ]
    },
    {
      "cell_type": "code",
      "execution_count": 37,
      "metadata": {
        "colab": {
          "base_uri": "https://localhost:8080/",
          "height": 415
        },
        "id": "nyFMnqW3cqrV",
        "outputId": "5f4efeec-cf77-42f0-c622-35bc0d26e0bc"
      },
      "outputs": [],
      "source": [
        "coord1_gpu = cuda.to_device(coord1)\n",
        "coord2_gpu = cuda.to_device(coord2)\n",
        "out_gpu = cuda.device_array(shape=(n,), dtype=np.int32)"
      ]
    },
    {
      "cell_type": "code",
      "execution_count": 38,
      "metadata": {
        "id": "US2IOiA-crK7"
      },
      "outputs": [
        {
          "name": "stdout",
          "output_type": "stream",
          "text": [
            "1.04 ms ± 200 µs per loop (mean ± std. dev. of 7 runs, 1 loop each)\n"
          ]
        }
      ],
      "source": [
        "_t_nker = %timeit -o \\\n",
        "get_nearby_kernel[blocks_per_grid, threads_per_block](coord1_gpu, coord2_gpu, 1.0, out_gpu); \\\n",
        "out_gpu.copy_to_host()"
      ]
    },
    {
      "cell_type": "code",
      "execution_count": 43,
      "metadata": {},
      "outputs": [
        {
          "name": "stdout",
          "output_type": "stream",
          "text": [
            "Примерно 2.9 часов, чтобы перебрать полный датасет\n"
          ]
        }
      ],
      "source": [
        "est_time(_t_nker.average)"
      ]
    },
    {
      "cell_type": "code",
      "execution_count": null,
      "metadata": {},
      "outputs": [],
      "source": []
    }
  ],
  "metadata": {
    "colab": {
      "provenance": []
    },
    "kernelspec": {
      "display_name": "Python 3.10.5 64-bit",
      "language": "python",
      "name": "python3"
    },
    "language_info": {
      "codemirror_mode": {
        "name": "ipython",
        "version": 3
      },
      "file_extension": ".py",
      "mimetype": "text/x-python",
      "name": "python",
      "nbconvert_exporter": "python",
      "pygments_lexer": "ipython3",
      "version": "3.10.5"
    },
    "vscode": {
      "interpreter": {
        "hash": "26de051ba29f2982a8de78e945f0abaf191376122a1563185a90213a26c5da77"
      }
    }
  },
  "nbformat": 4,
  "nbformat_minor": 0
}
